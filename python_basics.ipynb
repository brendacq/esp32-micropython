{
 "metadata": {
  "language_info": {
   "codemirror_mode": {
    "name": "ipython",
    "version": 3
   },
   "file_extension": ".py",
   "mimetype": "text/x-python",
   "name": "python",
   "nbconvert_exporter": "python",
   "pygments_lexer": "ipython3",
   "version": "3.8.5"
  },
  "orig_nbformat": 2,
  "kernelspec": {
   "name": "python3",
   "display_name": "Python 3",
   "language": "python"
  }
 },
 "nbformat": 4,
 "nbformat_minor": 2,
 "cells": [
  {
   "source": [
    "## Básico da programação em Python"
   ],
   "cell_type": "markdown",
   "metadata": {}
  },
  {
   "source": [
    "### Operadores matemáticos\n",
    "\n",
    "Esses são alguns dos operadores matemáticos:\n",
    "\n",
    "+ Adição\n",
    "- Subtração\n",
    "* Multiplicação\n",
    "/ Divisão\n",
    "// Divisão excluindo as casas decimais\n",
    "% Resto da divisão\n",
    "\n",
    "*Na divisão, a barra simples / retorna um número real, enquanto duas barras // retorna um número inteiro.\n",
    "\n"
   ],
   "cell_type": "markdown",
   "metadata": {}
  },
  {
   "cell_type": "code",
   "execution_count": 2,
   "metadata": {},
   "outputs": [
    {
     "output_type": "stream",
     "name": "stdout",
     "text": [
      "17\n12.367647058823529\n28602964.8\n11\n1\n"
     ]
    }
   ],
   "source": [
    "print(2+2*9-3)\n",
    "print(28594/2312)\n",
    "print(214522236/7.5)\n",
    "print(23//2)\n",
    "print(25%3)"
   ]
  },
  {
   "source": [
    "É possível realizar outras operações matemáticas, como potenciação, raíz quadrada, funções trigonométricas, etc. Para isso, basta importar o módulo `math`."
   ],
   "cell_type": "markdown",
   "metadata": {}
  },
  {
   "source": [
    "### Operadores relacionais\n",
    "\n",
    "Para comparar dois ou mais valores entre si, utilizamos operadores relacionais:\n",
    "\n",
    "`==` é igual a\n",
    "\n",
    "`!=` é não igual a\n",
    "\n",
    "`>` é maior que\n",
    "\n",
    "`<` é menor que\n",
    "\n",
    "`>=` é maior ou igual a\n",
    "\n",
    "`<=` é menor ou igual a"
   ],
   "cell_type": "markdown",
   "metadata": {}
  },
  {
   "cell_type": "code",
   "execution_count": 5,
   "metadata": {},
   "outputs": [
    {
     "output_type": "stream",
     "name": "stdout",
     "text": [
      "False\nTrue\nTrue\nTrue\nTrue\nFalse\n"
     ]
    }
   ],
   "source": [
    "print(2==3)\n",
    "print(4==4)\n",
    "print (3>2)\n",
    "print(489808234 != 2223)\n",
    "print(3.4 <= 3.4)\n",
    "print(21.3 <= 2)"
   ]
  },
  {
   "source": [
    "### Declarando variáveis\n",
    "\n",
    "Em Python, não é necessário declarar o tipo do valor que será armazenado ali, basta escrever o nome à esquerda e o valor à direita, ligador por um `=`.\n",
    "\n",
    "Por exemplo, para armazenar o número do GPIO onde um Led está conectado, faríamos\n",
    "\n",
    "```\n",
    "led_pin = 2\n",
    "```\n",
    "\n",
    "enquanto em C, para programar o Arduino, faríamos\n",
    "\n",
    "```\n",
    "const int led_pin = 2;\n",
    "```\n",
    "\n",
    "*Note também que em Python não usamos ponto-e-vírgula ao fim do comando.\n",
    "\n",
    "### Tipos de dados\n",
    "O **tipo** é o que classifica a informação que será armazenada naquela variável, e quatro tipos serão mais utilizados. São eles:\n",
    "\n",
    "* `int` - números inteiros;\n",
    "* `float` - números com casas decimais;\n",
    "* `str` - strings, ou cadeias de caracteres;\n",
    "* `bool` - booleanos, verdadeiro ou falso.\n",
    "\n",
    "Para descobrir o tipo de uma variável, podemos usar a função `type()`.\n"
   ],
   "cell_type": "markdown",
   "metadata": {}
  },
  {
   "cell_type": "code",
   "execution_count": 7,
   "metadata": {},
   "outputs": [],
   "source": [
    "a = 6\n",
    "b = 10.2\n",
    "c = 'Hello world'\n",
    "d = False"
   ]
  },
  {
   "cell_type": "code",
   "execution_count": 15,
   "metadata": {},
   "outputs": [
    {
     "output_type": "stream",
     "name": "stdout",
     "text": [
      "<class 'int'>\n<class 'float'>\n<class 'str'>\n<class 'bool'>\n"
     ]
    }
   ],
   "source": [
    "print(type(a))\n",
    "print(type(b))\n",
    "print(type(c))\n",
    "print(type(d))"
   ]
  },
  {
   "cell_type": "code",
   "execution_count": null,
   "metadata": {},
   "outputs": [],
   "source": []
  },
  {
   "cell_type": "code",
   "execution_count": null,
   "metadata": {},
   "outputs": [],
   "source": []
  }
 ]
}